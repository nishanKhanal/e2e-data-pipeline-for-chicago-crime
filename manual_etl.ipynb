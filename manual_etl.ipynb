{
 "cells": [
  {
   "cell_type": "code",
   "execution_count": 1,
   "metadata": {},
   "outputs": [],
   "source": [
    "import os, logging\n",
    "from dotenv import load_dotenv\n",
    "from etl.extract import extract\n",
    "from etl.transform import transform\n",
    "from etl.load import load\n",
    "import pandas as pd"
   ]
  },
  {
   "cell_type": "code",
   "execution_count": 10,
   "metadata": {},
   "outputs": [],
   "source": [
    "load_dotenv()\n",
    "\n",
    "DB_CONFIG = {\n",
    "    'host': os.getenv(\"DB_HOST\"),\n",
    "    'user': os.getenv(\"DB_USER\"),\n",
    "    'password': os.getenv(\"DB_PASS\"),\n",
    "    'dbname': os.getenv(\"DB_NAME\"),\n",
    "    'port': os.getenv(\"DB_PORT\")\n",
    "}\n",
    "\n",
    "def setup_logging():\n",
    "    logging.basicConfig(\n",
    "        filename='chicago_crime.log',\n",
    "        level=logging.DEBUG,\n",
    "        format='%(asctime)s - %(levelname)s - %(message)s',\n",
    "        force=True  # ensures clean reconfiguration when reloaded\n",
    "    )\n",
    "\n",
    "setup_logging()"
   ]
  },
  {
   "cell_type": "markdown",
   "metadata": {},
   "source": [
    "## For Local file with records from 2001 to Present"
   ]
  },
  {
   "cell_type": "code",
   "execution_count": null,
   "metadata": {},
   "outputs": [],
   "source": [
    "from pathlib import Path\n",
    "import pandas as pd\n",
    "\n",
    "base_data_path = Path(\"./data\")\n",
    "\n",
    "raw_file_name = \"Crimes_-_2001_to_Present_20250403.csv\"\n",
    "cleaned_subset_file_name = \"cleaned_subset_2024_to_Present_20250403.csv\""
   ]
  },
  {
   "cell_type": "code",
   "execution_count": null,
   "metadata": {},
   "outputs": [],
   "source": [
    "file_name = raw_file_name\n",
    "\n",
    "df = pd.read_csv(base_data_path / file_name)"
   ]
  },
  {
   "cell_type": "code",
   "execution_count": null,
   "metadata": {},
   "outputs": [],
   "source": [
    "load(df, DB_CONFIG, \"crimes\")"
   ]
  },
  {
   "cell_type": "code",
   "execution_count": null,
   "metadata": {},
   "outputs": [],
   "source": [
    "df = transform(df)"
   ]
  },
  {
   "cell_type": "markdown",
   "metadata": {},
   "source": [
    "## Update Data from API continuously\n",
    "The following steps are repeated daily through Airflow"
   ]
  },
  {
   "cell_type": "markdown",
   "metadata": {},
   "source": [
    "### Extract"
   ]
  },
  {
   "cell_type": "code",
   "execution_count": null,
   "metadata": {},
   "outputs": [],
   "source": [
    "APP_TOKEN = os.getenv(\"APP_TOKEN\")\n",
    "records = extract(DB_CONFIG, APP_TOKEN)"
   ]
  },
  {
   "cell_type": "code",
   "execution_count": 4,
   "metadata": {},
   "outputs": [],
   "source": [
    "df = pd.DataFrame(records)"
   ]
  },
  {
   "cell_type": "code",
   "execution_count": 5,
   "metadata": {},
   "outputs": [
    {
     "data": {
      "text/html": [
       "<div>\n",
       "<style scoped>\n",
       "    .dataframe tbody tr th:only-of-type {\n",
       "        vertical-align: middle;\n",
       "    }\n",
       "\n",
       "    .dataframe tbody tr th {\n",
       "        vertical-align: top;\n",
       "    }\n",
       "\n",
       "    .dataframe thead th {\n",
       "        text-align: right;\n",
       "    }\n",
       "</style>\n",
       "<table border=\"1\" class=\"dataframe\">\n",
       "  <thead>\n",
       "    <tr style=\"text-align: right;\">\n",
       "      <th></th>\n",
       "      <th>id</th>\n",
       "      <th>case_number</th>\n",
       "      <th>date</th>\n",
       "      <th>block</th>\n",
       "      <th>iucr</th>\n",
       "      <th>primary_type</th>\n",
       "      <th>description</th>\n",
       "      <th>location_description</th>\n",
       "      <th>arrest</th>\n",
       "      <th>domestic</th>\n",
       "      <th>...</th>\n",
       "      <th>ward</th>\n",
       "      <th>community_area</th>\n",
       "      <th>fbi_code</th>\n",
       "      <th>year</th>\n",
       "      <th>updated_on</th>\n",
       "      <th>x_coordinate</th>\n",
       "      <th>y_coordinate</th>\n",
       "      <th>latitude</th>\n",
       "      <th>longitude</th>\n",
       "      <th>location</th>\n",
       "    </tr>\n",
       "  </thead>\n",
       "  <tbody>\n",
       "    <tr>\n",
       "      <th>0</th>\n",
       "      <td>13808754</td>\n",
       "      <td>JJ221820</td>\n",
       "      <td>2023-06-01T00:00:00.000</td>\n",
       "      <td>050XX N WINTHROP AVE</td>\n",
       "      <td>1120</td>\n",
       "      <td>DECEPTIVE PRACTICE</td>\n",
       "      <td>FORGERY</td>\n",
       "      <td>APARTMENT</td>\n",
       "      <td>False</td>\n",
       "      <td>False</td>\n",
       "      <td>...</td>\n",
       "      <td>48</td>\n",
       "      <td>3</td>\n",
       "      <td>10</td>\n",
       "      <td>2023</td>\n",
       "      <td>2025-04-18T15:42:00.000</td>\n",
       "      <td>NaN</td>\n",
       "      <td>NaN</td>\n",
       "      <td>NaN</td>\n",
       "      <td>NaN</td>\n",
       "      <td>NaN</td>\n",
       "    </tr>\n",
       "    <tr>\n",
       "      <th>1</th>\n",
       "      <td>13802531</td>\n",
       "      <td>JJ213998</td>\n",
       "      <td>2025-04-10T18:00:00.000</td>\n",
       "      <td>064XX N MILWAUKEE AVE</td>\n",
       "      <td>1310</td>\n",
       "      <td>CRIMINAL DAMAGE</td>\n",
       "      <td>TO PROPERTY</td>\n",
       "      <td>COMMERCIAL / BUSINESS OFFICE</td>\n",
       "      <td>False</td>\n",
       "      <td>False</td>\n",
       "      <td>...</td>\n",
       "      <td>45</td>\n",
       "      <td>10</td>\n",
       "      <td>14</td>\n",
       "      <td>2025</td>\n",
       "      <td>2025-04-18T15:42:00.000</td>\n",
       "      <td>1132296</td>\n",
       "      <td>1942420</td>\n",
       "      <td>41.9982415</td>\n",
       "      <td>-87.788687473</td>\n",
       "      <td>{'latitude': '41.9982415', 'longitude': '-87.7...</td>\n",
       "    </tr>\n",
       "  </tbody>\n",
       "</table>\n",
       "<p>2 rows × 22 columns</p>\n",
       "</div>"
      ],
      "text/plain": [
       "         id case_number                     date                  block  iucr  \\\n",
       "0  13808754    JJ221820  2023-06-01T00:00:00.000   050XX N WINTHROP AVE  1120   \n",
       "1  13802531    JJ213998  2025-04-10T18:00:00.000  064XX N MILWAUKEE AVE  1310   \n",
       "\n",
       "         primary_type  description          location_description  arrest  \\\n",
       "0  DECEPTIVE PRACTICE      FORGERY                     APARTMENT   False   \n",
       "1     CRIMINAL DAMAGE  TO PROPERTY  COMMERCIAL / BUSINESS OFFICE   False   \n",
       "\n",
       "   domestic  ... ward community_area fbi_code  year               updated_on  \\\n",
       "0     False  ...   48              3       10  2023  2025-04-18T15:42:00.000   \n",
       "1     False  ...   45             10       14  2025  2025-04-18T15:42:00.000   \n",
       "\n",
       "  x_coordinate y_coordinate    latitude      longitude  \\\n",
       "0          NaN          NaN         NaN            NaN   \n",
       "1      1132296      1942420  41.9982415  -87.788687473   \n",
       "\n",
       "                                            location  \n",
       "0                                                NaN  \n",
       "1  {'latitude': '41.9982415', 'longitude': '-87.7...  \n",
       "\n",
       "[2 rows x 22 columns]"
      ]
     },
     "execution_count": 5,
     "metadata": {},
     "output_type": "execute_result"
    }
   ],
   "source": [
    "df.head(2)"
   ]
  },
  {
   "cell_type": "markdown",
   "metadata": {},
   "source": [
    "### Transform"
   ]
  },
  {
   "cell_type": "code",
   "execution_count": 6,
   "metadata": {},
   "outputs": [],
   "source": [
    "df = transform(df)"
   ]
  },
  {
   "cell_type": "code",
   "execution_count": 13,
   "metadata": {},
   "outputs": [
    {
     "name": "stdout",
     "output_type": "stream",
     "text": [
      "<class 'pandas.core.frame.DataFrame'>\n",
      "RangeIndex: 635 entries, 0 to 634\n",
      "Data columns (total 21 columns):\n",
      " #   Column                Non-Null Count  Dtype         \n",
      "---  ------                --------------  -----         \n",
      " 0   id                    635 non-null    Int64         \n",
      " 1   case_number           635 non-null    string        \n",
      " 2   date                  635 non-null    datetime64[ns]\n",
      " 3   block                 635 non-null    string        \n",
      " 4   iucr                  635 non-null    string        \n",
      " 5   primary_type          635 non-null    string        \n",
      " 6   description           635 non-null    string        \n",
      " 7   location_description  630 non-null    string        \n",
      " 8   arrest                635 non-null    boolean       \n",
      " 9   domestic              635 non-null    boolean       \n",
      " 10  beat                  635 non-null    Int64         \n",
      " 11  district              635 non-null    Int64         \n",
      " 12  ward                  635 non-null    Int64         \n",
      " 13  community_area        635 non-null    Int64         \n",
      " 14  fbi_code              635 non-null    string        \n",
      " 15  x_coordinate          559 non-null    float64       \n",
      " 16  y_coordinate          559 non-null    float64       \n",
      " 17  year                  635 non-null    Int64         \n",
      " 18  updated_on            635 non-null    datetime64[ns]\n",
      " 19  latitude              559 non-null    float64       \n",
      " 20  longitude             559 non-null    float64       \n",
      "dtypes: Int64(6), boolean(2), datetime64[ns](2), float64(4), string(7)\n",
      "memory usage: 100.6 KB\n"
     ]
    }
   ],
   "source": [
    "df.info()"
   ]
  },
  {
   "cell_type": "markdown",
   "metadata": {},
   "source": [
    "### Load"
   ]
  },
  {
   "cell_type": "code",
   "execution_count": 7,
   "metadata": {},
   "outputs": [],
   "source": [
    "load(df, DB_CONFIG)"
   ]
  }
 ],
 "metadata": {
  "kernelspec": {
   "display_name": "de_project_env",
   "language": "python",
   "name": "python3"
  },
  "language_info": {
   "codemirror_mode": {
    "name": "ipython",
    "version": 3
   },
   "file_extension": ".py",
   "mimetype": "text/x-python",
   "name": "python",
   "nbconvert_exporter": "python",
   "pygments_lexer": "ipython3",
   "version": "3.10.16"
  }
 },
 "nbformat": 4,
 "nbformat_minor": 2
}
